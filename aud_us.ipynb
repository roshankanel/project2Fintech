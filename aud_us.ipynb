{
 "cells": [
  {
   "cell_type": "code",
   "execution_count": 1,
   "id": "f84301ef-aee5-41b4-897b-b6601e54cfc4",
   "metadata": {},
   "outputs": [],
   "source": [
    "import pandas as pd\n",
    "import numpy as np"
   ]
  },
  {
   "cell_type": "code",
   "execution_count": 2,
   "id": "1b568195-4389-4add-b6a7-b1ea0d8ea9a3",
   "metadata": {},
   "outputs": [
    {
     "data": {
      "text/html": [
       "<div>\n",
       "<style scoped>\n",
       "    .dataframe tbody tr th:only-of-type {\n",
       "        vertical-align: middle;\n",
       "    }\n",
       "\n",
       "    .dataframe tbody tr th {\n",
       "        vertical-align: top;\n",
       "    }\n",
       "\n",
       "    .dataframe thead th {\n",
       "        text-align: right;\n",
       "    }\n",
       "</style>\n",
       "<table border=\"1\" class=\"dataframe\">\n",
       "  <thead>\n",
       "    <tr style=\"text-align: right;\">\n",
       "      <th></th>\n",
       "      <th>Time Serie</th>\n",
       "      <th>AUSTRALIA - AUSTRALIAN DOLLAR/US$</th>\n",
       "    </tr>\n",
       "  </thead>\n",
       "  <tbody>\n",
       "    <tr>\n",
       "      <th>0</th>\n",
       "      <td>2000-01-03</td>\n",
       "      <td>1.5172</td>\n",
       "    </tr>\n",
       "    <tr>\n",
       "      <th>1</th>\n",
       "      <td>2000-01-04</td>\n",
       "      <td>1.5239</td>\n",
       "    </tr>\n",
       "    <tr>\n",
       "      <th>2</th>\n",
       "      <td>2000-01-05</td>\n",
       "      <td>1.5267</td>\n",
       "    </tr>\n",
       "    <tr>\n",
       "      <th>3</th>\n",
       "      <td>2000-01-06</td>\n",
       "      <td>1.5291</td>\n",
       "    </tr>\n",
       "    <tr>\n",
       "      <th>4</th>\n",
       "      <td>2000-01-07</td>\n",
       "      <td>1.5272</td>\n",
       "    </tr>\n",
       "  </tbody>\n",
       "</table>\n",
       "</div>"
      ],
      "text/plain": [
       "   Time Serie AUSTRALIA - AUSTRALIAN DOLLAR/US$\n",
       "0  2000-01-03                            1.5172\n",
       "1  2000-01-04                            1.5239\n",
       "2  2000-01-05                            1.5267\n",
       "3  2000-01-06                            1.5291\n",
       "4  2000-01-07                            1.5272"
      ]
     },
     "execution_count": 2,
     "metadata": {},
     "output_type": "execute_result"
    }
   ],
   "source": [
    "df_2000_2019 = pd.read_csv(\"forex_all_2000_2019.csv\")\n",
    "df_2000_2019 = df_2000_2019.drop(columns=df_2000_2019.columns[0])\n",
    "df_2000_2019_AUD = df_2000_2019[[\"Time Serie\", \"AUSTRALIA - AUSTRALIAN DOLLAR/US$\"]].dropna()\n",
    "df_2000_2019_AUD.head()"
   ]
  },
  {
   "cell_type": "code",
   "execution_count": 3,
   "id": "eff1feb3-b394-45a2-a288-720f8903a3aa",
   "metadata": {},
   "outputs": [
    {
     "data": {
      "text/html": [
       "<div>\n",
       "<style scoped>\n",
       "    .dataframe tbody tr th:only-of-type {\n",
       "        vertical-align: middle;\n",
       "    }\n",
       "\n",
       "    .dataframe tbody tr th {\n",
       "        vertical-align: top;\n",
       "    }\n",
       "\n",
       "    .dataframe thead th {\n",
       "        text-align: right;\n",
       "    }\n",
       "</style>\n",
       "<table border=\"1\" class=\"dataframe\">\n",
       "  <thead>\n",
       "    <tr style=\"text-align: right;\">\n",
       "      <th></th>\n",
       "      <th>DATE</th>\n",
       "      <th>AUD_USD</th>\n",
       "      <th>MONTH</th>\n",
       "      <th>YEAR</th>\n",
       "      <th>MONTH_YEAR</th>\n",
       "    </tr>\n",
       "  </thead>\n",
       "  <tbody>\n",
       "    <tr>\n",
       "      <th>0</th>\n",
       "      <td>2000-01-03</td>\n",
       "      <td>1.5172</td>\n",
       "      <td>1</td>\n",
       "      <td>2000</td>\n",
       "      <td>2000-01</td>\n",
       "    </tr>\n",
       "    <tr>\n",
       "      <th>1</th>\n",
       "      <td>2000-01-04</td>\n",
       "      <td>1.5239</td>\n",
       "      <td>1</td>\n",
       "      <td>2000</td>\n",
       "      <td>2000-01</td>\n",
       "    </tr>\n",
       "    <tr>\n",
       "      <th>2</th>\n",
       "      <td>2000-01-05</td>\n",
       "      <td>1.5267</td>\n",
       "      <td>1</td>\n",
       "      <td>2000</td>\n",
       "      <td>2000-01</td>\n",
       "    </tr>\n",
       "    <tr>\n",
       "      <th>3</th>\n",
       "      <td>2000-01-06</td>\n",
       "      <td>1.5291</td>\n",
       "      <td>1</td>\n",
       "      <td>2000</td>\n",
       "      <td>2000-01</td>\n",
       "    </tr>\n",
       "    <tr>\n",
       "      <th>4</th>\n",
       "      <td>2000-01-07</td>\n",
       "      <td>1.5272</td>\n",
       "      <td>1</td>\n",
       "      <td>2000</td>\n",
       "      <td>2000-01</td>\n",
       "    </tr>\n",
       "  </tbody>\n",
       "</table>\n",
       "</div>"
      ],
      "text/plain": [
       "        DATE AUD_USD  MONTH  YEAR MONTH_YEAR\n",
       "0 2000-01-03  1.5172      1  2000    2000-01\n",
       "1 2000-01-04  1.5239      1  2000    2000-01\n",
       "2 2000-01-05  1.5267      1  2000    2000-01\n",
       "3 2000-01-06  1.5291      1  2000    2000-01\n",
       "4 2000-01-07  1.5272      1  2000    2000-01"
      ]
     },
     "execution_count": 3,
     "metadata": {},
     "output_type": "execute_result"
    }
   ],
   "source": [
    "df_2000_2019_AUD.rename(columns={'Time Serie':'DATE', 'AUSTRALIA - AUSTRALIAN DOLLAR/US$':'AUD_USD'}, inplace=True)\n",
    "df_2000_2019_AUD['DATE'] = pd.to_datetime(df_2000_2019_AUD['DATE'])\n",
    "df_2000_2019_AUD['MONTH'] = df_2000_2019_AUD['DATE'].dt.month\n",
    "df_2000_2019_AUD['YEAR'] = df_2000_2019_AUD['DATE'].dt.year\n",
    "df_2000_2019_AUD['MONTH_YEAR'] = df_2000_2019_AUD['DATE'].dt.to_period('M')\n",
    "df_2000_2019_AUD.head()"
   ]
  },
  {
   "cell_type": "code",
   "execution_count": 4,
   "id": "bff749e2-1907-4eed-9a19-f3f9a84c0ee1",
   "metadata": {},
   "outputs": [
    {
     "data": {
      "text/html": [
       "<div>\n",
       "<style scoped>\n",
       "    .dataframe tbody tr th:only-of-type {\n",
       "        vertical-align: middle;\n",
       "    }\n",
       "\n",
       "    .dataframe tbody tr th {\n",
       "        vertical-align: top;\n",
       "    }\n",
       "\n",
       "    .dataframe thead th {\n",
       "        text-align: right;\n",
       "    }\n",
       "</style>\n",
       "<table border=\"1\" class=\"dataframe\">\n",
       "  <thead>\n",
       "    <tr style=\"text-align: right;\">\n",
       "      <th></th>\n",
       "      <th>DATE</th>\n",
       "      <th>OPEN</th>\n",
       "      <th>HIGH</th>\n",
       "      <th>LOW</th>\n",
       "      <th>CLOSE</th>\n",
       "    </tr>\n",
       "  </thead>\n",
       "  <tbody>\n",
       "    <tr>\n",
       "      <th>0</th>\n",
       "      <td>2023-07-04</td>\n",
       "      <td>1.49997</td>\n",
       "      <td>1.50639</td>\n",
       "      <td>1.49419</td>\n",
       "      <td>1.49943</td>\n",
       "    </tr>\n",
       "    <tr>\n",
       "      <th>1</th>\n",
       "      <td>2023-06-30</td>\n",
       "      <td>1.49660</td>\n",
       "      <td>1.51591</td>\n",
       "      <td>1.48750</td>\n",
       "      <td>1.49990</td>\n",
       "    </tr>\n",
       "    <tr>\n",
       "      <th>2</th>\n",
       "      <td>2023-06-23</td>\n",
       "      <td>1.45256</td>\n",
       "      <td>1.50065</td>\n",
       "      <td>1.45250</td>\n",
       "      <td>1.49700</td>\n",
       "    </tr>\n",
       "    <tr>\n",
       "      <th>3</th>\n",
       "      <td>2023-06-16</td>\n",
       "      <td>1.48225</td>\n",
       "      <td>1.48529</td>\n",
       "      <td>1.44890</td>\n",
       "      <td>1.45400</td>\n",
       "    </tr>\n",
       "    <tr>\n",
       "      <th>4</th>\n",
       "      <td>2023-06-09</td>\n",
       "      <td>1.51348</td>\n",
       "      <td>1.51962</td>\n",
       "      <td>1.48100</td>\n",
       "      <td>1.48320</td>\n",
       "    </tr>\n",
       "  </tbody>\n",
       "</table>\n",
       "</div>"
      ],
      "text/plain": [
       "         DATE     OPEN     HIGH      LOW    CLOSE\n",
       "0  2023-07-04  1.49997  1.50639  1.49419  1.49943\n",
       "1  2023-06-30  1.49660  1.51591  1.48750  1.49990\n",
       "2  2023-06-23  1.45256  1.50065  1.45250  1.49700\n",
       "3  2023-06-16  1.48225  1.48529  1.44890  1.45400\n",
       "4  2023-06-09  1.51348  1.51962  1.48100  1.48320"
      ]
     },
     "execution_count": 4,
     "metadata": {},
     "output_type": "execute_result"
    }
   ],
   "source": [
    "df = pd.read_csv(\"forex_data_aud.csv\")\n",
    "df.head()"
   ]
  },
  {
   "cell_type": "code",
   "execution_count": 5,
   "id": "be694f6c-291f-488c-b2cf-d3bba1c3c2b0",
   "metadata": {},
   "outputs": [
    {
     "name": "stdout",
     "output_type": "stream",
     "text": [
      "Index(['DATE', 'OPEN', 'HIGH', 'LOW', 'CLOSE'], dtype='object')\n"
     ]
    }
   ],
   "source": [
    "print(df.columns)"
   ]
  },
  {
   "cell_type": "code",
   "execution_count": 6,
   "id": "cbadf442-b72f-4d2e-b424-1c458500cd38",
   "metadata": {},
   "outputs": [
    {
     "data": {
      "text/plain": [
       "DATE     0\n",
       "OPEN     0\n",
       "HIGH     0\n",
       "LOW      0\n",
       "CLOSE    0\n",
       "dtype: int64"
      ]
     },
     "execution_count": 6,
     "metadata": {},
     "output_type": "execute_result"
    }
   ],
   "source": [
    "df.dropna()\n",
    "df.isna().sum()"
   ]
  },
  {
   "cell_type": "code",
   "execution_count": 7,
   "id": "b4f6f0b7-9873-479e-b3e0-4593955aec73",
   "metadata": {},
   "outputs": [
    {
     "data": {
      "text/plain": [
       "DATE      object\n",
       "OPEN     float64\n",
       "HIGH     float64\n",
       "LOW      float64\n",
       "CLOSE    float64\n",
       "dtype: object"
      ]
     },
     "execution_count": 7,
     "metadata": {},
     "output_type": "execute_result"
    }
   ],
   "source": [
    "df.dtypes"
   ]
  },
  {
   "cell_type": "code",
   "execution_count": 8,
   "id": "2f94cdf9-785f-466a-a9d7-88636d7a1181",
   "metadata": {},
   "outputs": [],
   "source": [
    "for col in df.columns[1:]:\n",
    "    df[col] = pd.to_numeric(df[col], errors='coerce')"
   ]
  },
  {
   "cell_type": "code",
   "execution_count": 9,
   "id": "e82f633c-08eb-496b-b9f2-ad51c906c8d7",
   "metadata": {},
   "outputs": [
    {
     "data": {
      "text/html": [
       "<div>\n",
       "<style scoped>\n",
       "    .dataframe tbody tr th:only-of-type {\n",
       "        vertical-align: middle;\n",
       "    }\n",
       "\n",
       "    .dataframe tbody tr th {\n",
       "        vertical-align: top;\n",
       "    }\n",
       "\n",
       "    .dataframe thead th {\n",
       "        text-align: right;\n",
       "    }\n",
       "</style>\n",
       "<table border=\"1\" class=\"dataframe\">\n",
       "  <thead>\n",
       "    <tr style=\"text-align: right;\">\n",
       "      <th></th>\n",
       "      <th>DATE</th>\n",
       "      <th>OPEN</th>\n",
       "      <th>HIGH</th>\n",
       "      <th>LOW</th>\n",
       "      <th>CLOSE</th>\n",
       "    </tr>\n",
       "  </thead>\n",
       "  <tbody>\n",
       "    <tr>\n",
       "      <th>0</th>\n",
       "      <td>2023-07-04</td>\n",
       "      <td>1.49997</td>\n",
       "      <td>1.50639</td>\n",
       "      <td>1.49419</td>\n",
       "      <td>1.49943</td>\n",
       "    </tr>\n",
       "    <tr>\n",
       "      <th>1</th>\n",
       "      <td>2023-06-30</td>\n",
       "      <td>1.49660</td>\n",
       "      <td>1.51591</td>\n",
       "      <td>1.48750</td>\n",
       "      <td>1.49990</td>\n",
       "    </tr>\n",
       "    <tr>\n",
       "      <th>2</th>\n",
       "      <td>2023-06-23</td>\n",
       "      <td>1.45256</td>\n",
       "      <td>1.50065</td>\n",
       "      <td>1.45250</td>\n",
       "      <td>1.49700</td>\n",
       "    </tr>\n",
       "    <tr>\n",
       "      <th>3</th>\n",
       "      <td>2023-06-16</td>\n",
       "      <td>1.48225</td>\n",
       "      <td>1.48529</td>\n",
       "      <td>1.44890</td>\n",
       "      <td>1.45400</td>\n",
       "    </tr>\n",
       "    <tr>\n",
       "      <th>4</th>\n",
       "      <td>2023-06-09</td>\n",
       "      <td>1.51348</td>\n",
       "      <td>1.51962</td>\n",
       "      <td>1.48100</td>\n",
       "      <td>1.48320</td>\n",
       "    </tr>\n",
       "  </tbody>\n",
       "</table>\n",
       "</div>"
      ],
      "text/plain": [
       "         DATE     OPEN     HIGH      LOW    CLOSE\n",
       "0  2023-07-04  1.49997  1.50639  1.49419  1.49943\n",
       "1  2023-06-30  1.49660  1.51591  1.48750  1.49990\n",
       "2  2023-06-23  1.45256  1.50065  1.45250  1.49700\n",
       "3  2023-06-16  1.48225  1.48529  1.44890  1.45400\n",
       "4  2023-06-09  1.51348  1.51962  1.48100  1.48320"
      ]
     },
     "execution_count": 9,
     "metadata": {},
     "output_type": "execute_result"
    }
   ],
   "source": [
    "df.head()"
   ]
  },
  {
   "cell_type": "code",
   "execution_count": 10,
   "id": "e58ce527-65bf-4b2d-b6fe-ca4f7d71d98b",
   "metadata": {},
   "outputs": [],
   "source": [
    "df['DATE'] = pd.to_datetime(df['DATE'])\n",
    "df['MONTH'] = df['DATE'].dt.month\n",
    "df['YEAR'] = df['DATE'].dt.year\n",
    "df['MONTH_YEAR'] = df['DATE'].dt.to_period('M')"
   ]
  },
  {
   "cell_type": "code",
   "execution_count": 11,
   "id": "b4ec223f-3568-4fac-8bbe-169f3b265d52",
   "metadata": {},
   "outputs": [
    {
     "data": {
      "text/html": [
       "<div>\n",
       "<style scoped>\n",
       "    .dataframe tbody tr th:only-of-type {\n",
       "        vertical-align: middle;\n",
       "    }\n",
       "\n",
       "    .dataframe tbody tr th {\n",
       "        vertical-align: top;\n",
       "    }\n",
       "\n",
       "    .dataframe thead th {\n",
       "        text-align: right;\n",
       "    }\n",
       "</style>\n",
       "<table border=\"1\" class=\"dataframe\">\n",
       "  <thead>\n",
       "    <tr style=\"text-align: right;\">\n",
       "      <th></th>\n",
       "      <th>DATE</th>\n",
       "      <th>OPEN</th>\n",
       "      <th>HIGH</th>\n",
       "      <th>LOW</th>\n",
       "      <th>CLOSE</th>\n",
       "      <th>MONTH</th>\n",
       "      <th>YEAR</th>\n",
       "      <th>MONTH_YEAR</th>\n",
       "    </tr>\n",
       "  </thead>\n",
       "  <tbody>\n",
       "    <tr>\n",
       "      <th>0</th>\n",
       "      <td>2023-07-04</td>\n",
       "      <td>1.49997</td>\n",
       "      <td>1.50639</td>\n",
       "      <td>1.49419</td>\n",
       "      <td>1.49943</td>\n",
       "      <td>7</td>\n",
       "      <td>2023</td>\n",
       "      <td>2023-07</td>\n",
       "    </tr>\n",
       "    <tr>\n",
       "      <th>1</th>\n",
       "      <td>2023-06-30</td>\n",
       "      <td>1.49660</td>\n",
       "      <td>1.51591</td>\n",
       "      <td>1.48750</td>\n",
       "      <td>1.49990</td>\n",
       "      <td>6</td>\n",
       "      <td>2023</td>\n",
       "      <td>2023-06</td>\n",
       "    </tr>\n",
       "    <tr>\n",
       "      <th>2</th>\n",
       "      <td>2023-06-23</td>\n",
       "      <td>1.45256</td>\n",
       "      <td>1.50065</td>\n",
       "      <td>1.45250</td>\n",
       "      <td>1.49700</td>\n",
       "      <td>6</td>\n",
       "      <td>2023</td>\n",
       "      <td>2023-06</td>\n",
       "    </tr>\n",
       "    <tr>\n",
       "      <th>3</th>\n",
       "      <td>2023-06-16</td>\n",
       "      <td>1.48225</td>\n",
       "      <td>1.48529</td>\n",
       "      <td>1.44890</td>\n",
       "      <td>1.45400</td>\n",
       "      <td>6</td>\n",
       "      <td>2023</td>\n",
       "      <td>2023-06</td>\n",
       "    </tr>\n",
       "    <tr>\n",
       "      <th>4</th>\n",
       "      <td>2023-06-09</td>\n",
       "      <td>1.51348</td>\n",
       "      <td>1.51962</td>\n",
       "      <td>1.48100</td>\n",
       "      <td>1.48320</td>\n",
       "      <td>6</td>\n",
       "      <td>2023</td>\n",
       "      <td>2023-06</td>\n",
       "    </tr>\n",
       "  </tbody>\n",
       "</table>\n",
       "</div>"
      ],
      "text/plain": [
       "        DATE     OPEN     HIGH      LOW    CLOSE  MONTH  YEAR MONTH_YEAR\n",
       "0 2023-07-04  1.49997  1.50639  1.49419  1.49943      7  2023    2023-07\n",
       "1 2023-06-30  1.49660  1.51591  1.48750  1.49990      6  2023    2023-06\n",
       "2 2023-06-23  1.45256  1.50065  1.45250  1.49700      6  2023    2023-06\n",
       "3 2023-06-16  1.48225  1.48529  1.44890  1.45400      6  2023    2023-06\n",
       "4 2023-06-09  1.51348  1.51962  1.48100  1.48320      6  2023    2023-06"
      ]
     },
     "execution_count": 11,
     "metadata": {},
     "output_type": "execute_result"
    }
   ],
   "source": [
    "df.head()"
   ]
  },
  {
   "cell_type": "code",
   "execution_count": 39,
   "id": "e13cc67e-7c10-4c9e-9705-1dd50c961428",
   "metadata": {},
   "outputs": [
    {
     "data": {
      "text/html": [
       "<div>\n",
       "<style scoped>\n",
       "    .dataframe tbody tr th:only-of-type {\n",
       "        vertical-align: middle;\n",
       "    }\n",
       "\n",
       "    .dataframe tbody tr th {\n",
       "        vertical-align: top;\n",
       "    }\n",
       "\n",
       "    .dataframe thead th {\n",
       "        text-align: right;\n",
       "    }\n",
       "</style>\n",
       "<table border=\"1\" class=\"dataframe\">\n",
       "  <thead>\n",
       "    <tr style=\"text-align: right;\">\n",
       "      <th></th>\n",
       "      <th>MONTH_YEAR</th>\n",
       "      <th>AUD_USD</th>\n",
       "    </tr>\n",
       "  </thead>\n",
       "  <tbody>\n",
       "    <tr>\n",
       "      <th>0</th>\n",
       "      <td>2020-01</td>\n",
       "      <td>1.459840</td>\n",
       "    </tr>\n",
       "    <tr>\n",
       "      <th>1</th>\n",
       "      <td>2020-02</td>\n",
       "      <td>1.507950</td>\n",
       "    </tr>\n",
       "    <tr>\n",
       "      <th>2</th>\n",
       "      <td>2020-03</td>\n",
       "      <td>1.616650</td>\n",
       "    </tr>\n",
       "    <tr>\n",
       "      <th>3</th>\n",
       "      <td>2020-04</td>\n",
       "      <td>1.593925</td>\n",
       "    </tr>\n",
       "    <tr>\n",
       "      <th>4</th>\n",
       "      <td>2020-05</td>\n",
       "      <td>1.534920</td>\n",
       "    </tr>\n",
       "  </tbody>\n",
       "</table>\n",
       "</div>"
      ],
      "text/plain": [
       "  MONTH_YEAR   AUD_USD\n",
       "0    2020-01  1.459840\n",
       "1    2020-02  1.507950\n",
       "2    2020-03  1.616650\n",
       "3    2020-04  1.593925\n",
       "4    2020-05  1.534920"
      ]
     },
     "execution_count": 39,
     "metadata": {},
     "output_type": "execute_result"
    }
   ],
   "source": [
    "df_group_by_aud_2020_2023 = df.query(\"YEAR > 2019\").groupby(\"MONTH_YEAR\").CLOSE.mean().reset_index()\n",
    "df_group_by_aud_2020_2023.rename(columns={'CLOSE':'AUD_USD'}, inplace=True)\n",
    "df_group_by_aud_2020_2023.head()"
   ]
  },
  {
   "cell_type": "code",
   "execution_count": 40,
   "id": "e3a97623-3e5c-4452-81ac-0eb8d3914b13",
   "metadata": {},
   "outputs": [],
   "source": [
    "df_2000_2019_AUD.head()\n",
    "df_2000_2019_AUD.set_index(\"MONTH_YEAR\")\n",
    "df_2000_2019_AUD = df_2000_2019_AUD[[\"MONTH_YEAR\", \"AUD_USD\"]].dropna()"
   ]
  },
  {
   "cell_type": "code",
   "execution_count": 41,
   "id": "2d3b8cd2-bf61-4def-841d-3008625f62ca",
   "metadata": {},
   "outputs": [
    {
     "data": {
      "text/html": [
       "<div>\n",
       "<style scoped>\n",
       "    .dataframe tbody tr th:only-of-type {\n",
       "        vertical-align: middle;\n",
       "    }\n",
       "\n",
       "    .dataframe tbody tr th {\n",
       "        vertical-align: top;\n",
       "    }\n",
       "\n",
       "    .dataframe thead th {\n",
       "        text-align: right;\n",
       "    }\n",
       "</style>\n",
       "<table border=\"1\" class=\"dataframe\">\n",
       "  <thead>\n",
       "    <tr style=\"text-align: right;\">\n",
       "      <th></th>\n",
       "      <th>MONTH_YEAR</th>\n",
       "      <th>AUD_USD</th>\n",
       "    </tr>\n",
       "  </thead>\n",
       "  <tbody>\n",
       "    <tr>\n",
       "      <th>0</th>\n",
       "      <td>2020-01</td>\n",
       "      <td>1.459840</td>\n",
       "    </tr>\n",
       "    <tr>\n",
       "      <th>1</th>\n",
       "      <td>2020-02</td>\n",
       "      <td>1.507950</td>\n",
       "    </tr>\n",
       "    <tr>\n",
       "      <th>2</th>\n",
       "      <td>2020-03</td>\n",
       "      <td>1.616650</td>\n",
       "    </tr>\n",
       "    <tr>\n",
       "      <th>3</th>\n",
       "      <td>2020-04</td>\n",
       "      <td>1.593925</td>\n",
       "    </tr>\n",
       "    <tr>\n",
       "      <th>4</th>\n",
       "      <td>2020-05</td>\n",
       "      <td>1.534920</td>\n",
       "    </tr>\n",
       "  </tbody>\n",
       "</table>\n",
       "</div>"
      ],
      "text/plain": [
       "  MONTH_YEAR   AUD_USD\n",
       "0    2020-01  1.459840\n",
       "1    2020-02  1.507950\n",
       "2    2020-03  1.616650\n",
       "3    2020-04  1.593925\n",
       "4    2020-05  1.534920"
      ]
     },
     "execution_count": 41,
     "metadata": {},
     "output_type": "execute_result"
    }
   ],
   "source": [
    " df_group_by_aud_2020_2023.head()"
   ]
  },
  {
   "cell_type": "code",
   "execution_count": 60,
   "id": "6a1561e0-df09-471a-9f84-6d5325077856",
   "metadata": {},
   "outputs": [],
   "source": [
    "df_2000_2023 = pd.concat([df_2000_2019_AUD, df_group_by_aud_2020_2023], join=\"inner\")\n",
    "df_2000_2023.head()\n",
    "df_2000_2023.count\n",
    "df_2000_2023.dropna()\n",
    "df_2000_2023['AUD_USD'] = pd.to_numeric(df_2000_2023['AUD_USD'], errors='coerce')\n",
    "df_2000_2023.head()\n",
    "df_2000_2023 = df_2000_2023.groupby('MONTH_YEAR').AUD_USD.mean().reset_index()"
   ]
  },
  {
   "cell_type": "code",
   "execution_count": 61,
   "id": "48865e0c-a4cb-411c-88d1-3bfff9d2530f",
   "metadata": {},
   "outputs": [
    {
     "data": {
      "image/png": "[encoded data removed]",
      "text/plain": [
       "<Figure size 800x400 with 1 Axes>"
      ]
     },
     "metadata": {},
     "output_type": "display_data"
    }
   ],
   "source": [
    "from matplotlib import pyplot as plt\n",
    "x = df_2000_2023['MONTH_YEAR'].astype('str')\n",
    "y = df_2000_2023['AUD_USD'].astype('str')\n",
    "plt.figure(figsize=(8, 4))\n",
    "plt.plot(x, y)\n",
    "plt.title(\"Exchange Rate: AUD/USD\")\n",
    "plt.xlabel(\"Month\")\n",
    "plt.ylabel(\"Exchange Rate\")\n",
    "plt.show()\n",
    "\n"
   ]
  },
  {
   "cell_type": "code",
   "execution_count": 63,
   "id": "8c44a92c-5a39-4f36-94ba-3a7c6d6ccf34",
   "metadata": {},
   "outputs": [
    {
     "data": {
      "text/html": [
       "<div>\n",
       "<style scoped>\n",
       "    .dataframe tbody tr th:only-of-type {\n",
       "        vertical-align: middle;\n",
       "    }\n",
       "\n",
       "    .dataframe tbody tr th {\n",
       "        vertical-align: top;\n",
       "    }\n",
       "\n",
       "    .dataframe thead th {\n",
       "        text-align: right;\n",
       "    }\n",
       "</style>\n",
       "<table border=\"1\" class=\"dataframe\">\n",
       "  <thead>\n",
       "    <tr style=\"text-align: right;\">\n",
       "      <th></th>\n",
       "      <th>MONTH_YEAR</th>\n",
       "      <th>AUD_USD</th>\n",
       "      <th>USD</th>\n",
       "    </tr>\n",
       "  </thead>\n",
       "  <tbody>\n",
       "    <tr>\n",
       "      <th>278</th>\n",
       "      <td>2023-03</td>\n",
       "      <td>1.497598</td>\n",
       "      <td>1</td>\n",
       "    </tr>\n",
       "    <tr>\n",
       "      <th>279</th>\n",
       "      <td>2023-04</td>\n",
       "      <td>1.498550</td>\n",
       "      <td>1</td>\n",
       "    </tr>\n",
       "    <tr>\n",
       "      <th>280</th>\n",
       "      <td>2023-05</td>\n",
       "      <td>1.505800</td>\n",
       "      <td>1</td>\n",
       "    </tr>\n",
       "    <tr>\n",
       "      <th>281</th>\n",
       "      <td>2023-06</td>\n",
       "      <td>1.489460</td>\n",
       "      <td>1</td>\n",
       "    </tr>\n",
       "    <tr>\n",
       "      <th>282</th>\n",
       "      <td>2023-07</td>\n",
       "      <td>1.499430</td>\n",
       "      <td>1</td>\n",
       "    </tr>\n",
       "  </tbody>\n",
       "</table>\n",
       "</div>"
      ],
      "text/plain": [
       "    MONTH_YEAR   AUD_USD  USD\n",
       "278    2023-03  1.497598    1\n",
       "279    2023-04  1.498550    1\n",
       "280    2023-05  1.505800    1\n",
       "281    2023-06  1.489460    1\n",
       "282    2023-07  1.499430    1"
      ]
     },
     "execution_count": 63,
     "metadata": {},
     "output_type": "execute_result"
    }
   ],
   "source": [
    "# df_2000_2023.rename(columns={'CLOSE':'AUD_USD'}, inplace=True)\n",
    "df_2000_2023['USD'] = [1 for i in range(283)]\n",
    "df_2000_2023.tail()"
   ]
  },
  {
   "cell_type": "code",
   "execution_count": 49,
   "id": "23d9c100-a5b2-4e70-8393-0ddc97ee72a5",
   "metadata": {},
   "outputs": [
    {
     "name": "stdout",
     "output_type": "stream",
     "text": [
      "0     2000-01\n",
      "1     2000-01\n",
      "2     2000-01\n",
      "3     2000-01\n",
      "4     2000-01\n",
      "       ...   \n",
      "38    2023-03\n",
      "39    2023-04\n",
      "40    2023-05\n",
      "41    2023-06\n",
      "42    2023-07\n",
      "Name: MONTH_YEAR, Length: 5260, dtype: object\n"
     ]
    }
   ],
   "source": [
    "print(x)"
   ]
  },
  {
   "cell_type": "code",
   "execution_count": 79,
   "id": "9017b578-6b99-4105-a93d-3b2894197e4a",
   "metadata": {},
   "outputs": [
    {
     "data": {
      "image/png": "[encoded data removed]",
      "text/plain": [
       "<Figure size 2000x500 with 1 Axes>"
      ]
     },
     "metadata": {},
     "output_type": "display_data"
    }
   ],
   "source": [
    "forex_all = df_2000_2023[[\"AUD_USD\", \"USD\"]]\n",
    "labels = [\"AUD_MEAN\", \"USD_MEAN\"]\n",
    "x_ticks = list(range(1, 283, 12))\n",
    "x_ticklabels = [x for x in range(2000, 2024)]\n",
    "plt.figure(figsize=(20 ,5))\n",
    "ax = plt.subplot()\n",
    "plt.plot(x, forex_all)\n",
    "ax.set_xticks(x_ticks)\n",
    "ax.set_xticklabels(x_ticklabels)\n",
    "plt.legend(labels)\n",
    "plt.title(\"Exchange Rate: Top Countries/USD\")\n",
    "plt.xlabel(\"Year\")\n",
    "plt.ylabel(\"Exchange Rate\")\n",
    "plt.show()"
   ]
  },
  {
   "cell_type": "code",
   "execution_count": 82,
   "id": "81f52266-98c2-4c36-b1e0-ecfc926b5d59",
   "metadata": {},
   "outputs": [
    {
     "data": {
      "text/html": [
       "<div>\n",
       "<style scoped>\n",
       "    .dataframe tbody tr th:only-of-type {\n",
       "        vertical-align: middle;\n",
       "    }\n",
       "\n",
       "    .dataframe tbody tr th {\n",
       "        vertical-align: top;\n",
       "    }\n",
       "\n",
       "    .dataframe thead th {\n",
       "        text-align: right;\n",
       "    }\n",
       "</style>\n",
       "<table border=\"1\" class=\"dataframe\">\n",
       "  <thead>\n",
       "    <tr style=\"text-align: right;\">\n",
       "      <th></th>\n",
       "      <th>DATE</th>\n",
       "      <th>OPEN</th>\n",
       "      <th>HIGH</th>\n",
       "      <th>LOW</th>\n",
       "      <th>CLOSE</th>\n",
       "      <th>MONTH</th>\n",
       "      <th>YEAR</th>\n",
       "      <th>MONTH_YEAR</th>\n",
       "    </tr>\n",
       "  </thead>\n",
       "  <tbody>\n",
       "    <tr>\n",
       "      <th>0</th>\n",
       "      <td>2023-07-04</td>\n",
       "      <td>1.49997</td>\n",
       "      <td>1.50639</td>\n",
       "      <td>1.49419</td>\n",
       "      <td>1.49943</td>\n",
       "      <td>7</td>\n",
       "      <td>2023</td>\n",
       "      <td>2023-07</td>\n",
       "    </tr>\n",
       "    <tr>\n",
       "      <th>1</th>\n",
       "      <td>2023-06-30</td>\n",
       "      <td>1.49660</td>\n",
       "      <td>1.51591</td>\n",
       "      <td>1.48750</td>\n",
       "      <td>1.49990</td>\n",
       "      <td>6</td>\n",
       "      <td>2023</td>\n",
       "      <td>2023-06</td>\n",
       "    </tr>\n",
       "    <tr>\n",
       "      <th>2</th>\n",
       "      <td>2023-06-23</td>\n",
       "      <td>1.45256</td>\n",
       "      <td>1.50065</td>\n",
       "      <td>1.45250</td>\n",
       "      <td>1.49700</td>\n",
       "      <td>6</td>\n",
       "      <td>2023</td>\n",
       "      <td>2023-06</td>\n",
       "    </tr>\n",
       "    <tr>\n",
       "      <th>3</th>\n",
       "      <td>2023-06-16</td>\n",
       "      <td>1.48225</td>\n",
       "      <td>1.48529</td>\n",
       "      <td>1.44890</td>\n",
       "      <td>1.45400</td>\n",
       "      <td>6</td>\n",
       "      <td>2023</td>\n",
       "      <td>2023-06</td>\n",
       "    </tr>\n",
       "    <tr>\n",
       "      <th>4</th>\n",
       "      <td>2023-06-09</td>\n",
       "      <td>1.51348</td>\n",
       "      <td>1.51962</td>\n",
       "      <td>1.48100</td>\n",
       "      <td>1.48320</td>\n",
       "      <td>6</td>\n",
       "      <td>2023</td>\n",
       "      <td>2023-06</td>\n",
       "    </tr>\n",
       "  </tbody>\n",
       "</table>\n",
       "</div>"
      ],
      "text/plain": [
       "        DATE     OPEN     HIGH      LOW    CLOSE  MONTH  YEAR MONTH_YEAR\n",
       "0 2023-07-04  1.49997  1.50639  1.49419  1.49943      7  2023    2023-07\n",
       "1 2023-06-30  1.49660  1.51591  1.48750  1.49990      6  2023    2023-06\n",
       "2 2023-06-23  1.45256  1.50065  1.45250  1.49700      6  2023    2023-06\n",
       "3 2023-06-16  1.48225  1.48529  1.44890  1.45400      6  2023    2023-06\n",
       "4 2023-06-09  1.51348  1.51962  1.48100  1.48320      6  2023    2023-06"
      ]
     },
     "execution_count": 82,
     "metadata": {},
     "output_type": "execute_result"
    }
   ],
   "source": [
    "df.head()"
   ]
  },
  {
   "cell_type": "code",
   "execution_count": 86,
   "id": "2d4a8857-5e21-45e6-abfc-1d8f2c94ddff",
   "metadata": {},
   "outputs": [],
   "source": [
    "x = df[[\"OPEN\", \"HIGH\", \"LOW\"]]"
   ]
  },
  {
   "cell_type": "code",
   "execution_count": 87,
   "id": "d2fc6206-7df6-4d68-b238-d75d99f1de02",
   "metadata": {},
   "outputs": [],
   "source": [
    "x = df[[\"OPEN\", \"HIGH\", \"LOW\"]]\n",
    "y = df[\"CLOSE\"]\n",
    "x = x.to_numpy()\n",
    "y = y.to_numpy()\n",
    "y = y.reshape(-1, 1)"
   ]
  },
  {
   "cell_type": "code",
   "execution_count": 88,
   "id": "86eefd87-8865-400f-ae5c-6338b0174d6b",
   "metadata": {},
   "outputs": [],
   "source": [
    "from sklearn.model_selection import train_test_split\n",
    "xtrain, xtest, ytrain, ytest = train_test_split(x, y, test_size=0.2, random_state=42)\n",
    "\n",
    "from sklearn.tree import DecisionTreeRegressor\n",
    "model = DecisionTreeRegressor()\n",
    "model.fit(xtrain, ytrain)\n",
    "ypred = model.predict(xtest)"
   ]
  },
  {
   "cell_type": "code",
   "execution_count": 89,
   "id": "e2615432-e741-4870-ac5f-a9c82aedcf01",
   "metadata": {},
   "outputs": [
    {
     "name": "stdout",
     "output_type": "stream",
     "text": [
      "   Predicted Rate\n",
      "0          1.2598\n",
      "1          1.5592\n",
      "2          1.3187\n",
      "3          1.3925\n",
      "4          1.3976\n"
     ]
    }
   ],
   "source": [
    "data = pd.DataFrame(data={\"Predicted Rate\": ypred.flatten()})\n",
    "print(data.head())"
   ]
  },
  {
   "cell_type": "code",
   "execution_count": 91,
   "id": "2094ec9e-1c02-4019-84e7-45096e9eb405",
   "metadata": {},
   "outputs": [],
   "source": [
    "#Summary\n",
    "#In this we used the Decision Tree Regression algorithm to predict the currency exchange rates. Above data frame shows the prediction based for 5 upcoming days."
   ]
  },
  {
   "cell_type": "code",
   "execution_count": null,
   "id": "6016c822-7c4d-423b-ad3c-690a9f487b14",
   "metadata": {},
   "outputs": [],
   "source": []
  }
 ],
 "metadata": {
  "kernelspec": {
   "display_name": "dev",
   "language": "python",
   "name": "dev"
  },
  "language_info": {
   "codemirror_mode": {
    "name": "ipython",
    "version": 3
   },
   "file_extension": ".py",
   "mimetype": "text/x-python",
   "name": "python",
   "nbconvert_exporter": "python",
   "pygments_lexer": "ipython3",
   "version": "3.7.13"
  }
 },
 "nbformat": 4,
 "nbformat_minor": 5
}
